{
 "cells": [
  {
   "cell_type": "markdown",
   "id": "cae4bf88",
   "metadata": {},
   "source": [
    "# Nonstructural Seismic Fragility Tool \n",
    "This notebook allows users to visualize data within the experimental.csv database and use that data to estimate fragility functions of specific nonstrcutural building components of interest. The tool fits fragilities using the maximum liklihood estimation method, assuming a lognormal distribution, and uses Notebook Widgets to ehnance user interaction without needing to change the code.\n",
    "\n",
    "After running each cell in this notebook, users can easily vary inputs using the dropdown widgets to query different component types within the database.\n",
    "\n",
    "Prior to running script ensure that all required packages are installed by running the following commands on your command line\n",
    " - pip install numpy\n",
    " - pip install scipy\n",
    " - pip install pandas\n",
    " - pip install matplotlib\n",
    " - pip install ipywidgets"
   ]
  },
  {
   "cell_type": "markdown",
   "id": "0feff63d",
   "metadata": {},
   "source": [
    "## Import packages"
   ]
  },
  {
   "cell_type": "code",
   "execution_count": 1,
   "id": "bce60425",
   "metadata": {},
   "outputs": [],
   "source": [
    "import numpy as np\n",
    "import scipy as sp\n",
    "from scipy import stats\n",
    "import pandas as pd\n",
    "import matplotlib.pyplot as plt\n",
    "import ipywidgets as widgets"
   ]
  },
  {
   "cell_type": "markdown",
   "id": "61d1c966",
   "metadata": {},
   "source": [
    "## Load database\n",
    "Pull in the experimental observations database csv in the data directory"
   ]
  },
  {
   "cell_type": "code",
   "execution_count": 2,
   "id": "d2da0fa7",
   "metadata": {},
   "outputs": [],
   "source": [
    "df = pd.read_csv('../data/db_experiment.csv')"
   ]
  },
  {
   "cell_type": "markdown",
   "id": "e94b8232",
   "metadata": {},
   "source": [
    "## Characterize Data\n",
    "Plot a categorical histogram of the number of datapoints available for each component type in the database."
   ]
  },
  {
   "cell_type": "code",
   "execution_count": 4,
   "id": "431a5393",
   "metadata": {},
   "outputs": [
    {
     "data": {
      "image/png": "[encoded data removed]",
      "text/plain": [
       "<Figure size 432x288 with 1 Axes>"
      ]
     },
     "metadata": {
      "needs_background": "light"
     },
     "output_type": "display_data"
    }
   ],
   "source": [
    "ax = df['comp_type'].value_counts(sort=True).plot.bar(rot=90, title='Damage Observations by Component Type')\n",
    "ax.set_ylabel(\"Number of Damage Recordings\");\n",
    "comp_types = df['comp_type'].unique()\n",
    "edp_types = df['ds_intensity_unit'].unique()"
   ]
  },
  {
   "cell_type": "markdown",
   "id": "21e3dcba",
   "metadata": {},
   "source": [
    "## Select Component Type and Fit Fragility\n",
    "From one the available component types listed in the above plot, investigate the damage data and fit a lognormal fragility curve.\n",
    "\n",
    "### Plot Distribution of Damage Records\n",
    "In the dropdowns below, select a component type of interest and an applicable EDP parameter. The second drop down only shows EDPs that are available in the database for the selected component type (i.e., they are conditional on the first dropdown). The plot shows a discrete pdf (histogram) of the intesity at which the damaged occured across all expermintal test in the database for a given EDP"
   ]
  },
  {
   "cell_type": "code",
   "execution_count": 11,
   "id": "379a898e",
   "metadata": {
    "scrolled": true
   },
   "outputs": [],
   "source": [
    "def check_intensity(comptype=\"Suspended Ceilings\",edp='PFA (g), Horizontal in longitudinal direction'):\n",
    "    newdf = df[(df['comp_type'] == comptype) & (df['ds_intensity_unit'] == edp)]\n",
    "    convert_data = newdf[['ds_intensity']].apply(pd.to_numeric)\n",
    "    ax = convert_data.plot.hist(column=[\"ds_intensity\"], title='Component Capacity')\n",
    "    ax.set_xlabel(edp);\n",
    "\n",
    "def get_edp_types_per_selected_comptype(comptype=\"Suspended Ceilings\"):\n",
    "    newdf = df[(df['comp_type'] == comptype)]\n",
    "    value_counts = newdf['ds_intensity_unit'].value_counts(sort=True)\n",
    "    edp_types_per_selected_comptype = value_counts.index.to_list()\n",
    "    return edp_types_per_selected_comptype\n",
    "\n",
    "\n",
    "def update_edp_options(comptype):\n",
    "    edp_types_per_selected_comptype = get_edp_types_per_selected_comptype(comptype)\n",
    "    \n",
    "    widgets.interact(check_intensity, comptype=widgets.fixed(comptype), edp=edp_types_per_selected_comptype)"
   ]
  },
  {
   "cell_type": "code",
   "execution_count": 12,
   "id": "a761ce01",
   "metadata": {},
   "outputs": [
    {
     "data": {
      "application/vnd.jupyter.widget-view+json": {
       "model_id": "1709beadd5b240929b3db3303d491729",
       "version_major": 2,
       "version_minor": 0
      },
      "text/plain": [
       "interactive(children=(Dropdown(description='comptype', options=('Internal partition walls', 'Elevators', 'Faca…"
      ]
     },
     "metadata": {},
     "output_type": "display_data"
    }
   ],
   "source": [
    "widgets.interact(update_edp_options, comptype=comp_types);"
   ]
  },
  {
   "cell_type": "markdown",
   "id": "67c95ebb",
   "metadata": {},
   "source": [
    "### Fit Seismic Fragility\n",
    "In th drop Using MLE, fit a lognormal fragility to the discrete damage points for a given component type and EDP of interest. In the dropdowns below, select a component type of interest and an applicable EDP parameter. The second drop down only shows EDPs that are available in the database for the selected component type (i.e., they are conditional on the first dropdown). The plot shows the discrete cdf points overlayed by the fitted fragility. Fragility parameters $\\mu$ (median) and $\\beta$ (lognormal standard deviation) are printed just above the plot. \n",
    "\n",
    "*Note: The current fitting proceduce is very basic and will likely provide poor fits for data smaller than 30 points.*"
   ]
  },
  {
   "cell_type": "code",
   "execution_count": 13,
   "id": "ea7afdd2",
   "metadata": {},
   "outputs": [],
   "source": [
    "def fit_frag(comptype=\"Suspended Ceilings\",edp='PFA (g), Horizontal in longitudinal direction'):\n",
    "    newdf = df[(df['comp_type'] == comptype) & (df['ds_intensity_unit'] == edp)]\n",
    "    if newdf.size > 0:\n",
    "        convert_data = newdf[['ds_intensity']].apply(pd.to_numeric)\n",
    "\n",
    "        # Rank the data\n",
    "        ranked_data = convert_data.sort_values(by='ds_intensity')\n",
    "        num_records = ranked_data.size\n",
    "        ranked_data['rank'] = np.linspace(1, num_records, num=num_records)/num_records\n",
    "\n",
    "        # Fit the fragility\n",
    "        up_lim = ranked_data['ds_intensity'].max()\n",
    "        x=np.linspace(0,up_lim,100)\n",
    "        param = sp.stats.lognorm.fit(ranked_data['ds_intensity'])\n",
    "        cdf_fitted = sp.stats.lognorm.cdf(x, param[0], loc=param[1], scale=param[2]) # fitted distribution\n",
    "\n",
    "        # Plot the data\n",
    "        ax = ranked_data.plot.scatter(x='ds_intensity', y='rank')\n",
    "        plt.plot(x,cdf_fitted,'r-')\n",
    "        ax.set_xlabel(edp);\n",
    "\n",
    "        # Print the Fragility Parameters\n",
    "        print('μ = ', round(param[2],3))\n",
    "        print('β = ', round(param[0],2))\n",
    "    else:\n",
    "      print(\"No Damage Records\")\n",
    "\n",
    "\n",
    "def get_edp_types_per_selected_comptype(comptype=\"Suspended Ceilings\"):\n",
    "    newdf = df[(df['comp_type'] == comptype)]\n",
    "    value_counts = newdf['ds_intensity_unit'].value_counts(sort=True)\n",
    "    edp_types_per_selected_comptype = value_counts.index.to_list()\n",
    "    return edp_types_per_selected_comptype\n",
    "\n",
    "def update_edp_options(comptype):\n",
    "    edp_types_per_selected_comptype = get_edp_types_per_selected_comptype(comptype)\n",
    "    \n",
    "    widgets.interact(fit_frag, comptype=widgets.fixed(comptype), edp=edp_types_per_selected_comptype)"
   ]
  },
  {
   "cell_type": "code",
   "execution_count": 14,
   "id": "5bafa3c4",
   "metadata": {},
   "outputs": [
    {
     "data": {
      "application/vnd.jupyter.widget-view+json": {
       "model_id": "c689ca3e108c4685a8eb8809bed95499",
       "version_major": 2,
       "version_minor": 0
      },
      "text/plain": [
       "interactive(children=(Dropdown(description='comptype', options=('Internal partition walls', 'Elevators', 'Faca…"
      ]
     },
     "metadata": {},
     "output_type": "display_data"
    }
   ],
   "source": [
    "widgets.interact(update_edp_options, comptype=comp_types);"
   ]
  }
 ],
 "metadata": {
  "kernelspec": {
   "display_name": "Python 3 (ipykernel)",
   "language": "python",
   "name": "python3"
  },
  "language_info": {
   "codemirror_mode": {
    "name": "ipython",
    "version": 3
   },
   "file_extension": ".py",
   "mimetype": "text/x-python",
   "name": "python",
   "nbconvert_exporter": "python",
   "pygments_lexer": "ipython3",
   "version": "3.9.13"
  }
 },
 "nbformat": 4,
 "nbformat_minor": 5
}
